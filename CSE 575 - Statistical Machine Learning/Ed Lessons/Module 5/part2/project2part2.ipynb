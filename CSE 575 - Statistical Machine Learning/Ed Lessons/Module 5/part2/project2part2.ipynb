{
    "cells": [
        {
            "attachments": {},
            "cell_type": "markdown",
            "metadata": {},
            "source": [
                "Below cell contains starter code to generate the initial centers.\n",
                "Please do not change anything apart from the student ID.\n",
                "The initial centers will be in a dictionary with keys being 'k' and value being the centers."
            ]
        },
        {
            "cell_type": "code",
            "execution_count": 1,
            "metadata": {},
            "outputs": [
                {
                    "name": "stdout",
                    "output_type": "stream",
                    "text": [
                        "{2: array([6.6384501 , 8.33574252]), 3: array([6.8150111 , 2.13543395]), 4: array([5.60001917, 3.02332715]), 5: array([1.96633923, 7.30845038]), 6: array([6.79251832, 2.56208095]), 7: array([1.79534908, 3.7348206 ]), 8: array([5.68845261, 8.27229082]), 9: array([3.35409838, 5.79603723]), 10: array([2.77605992, 2.74592055])}\n"
                    ]
                }
            ],
            "source": [
                "from precode import * \n",
                "\n",
                "data = np.load('AllSamples.npy')\n",
                "initial_centers = {}\n",
                "\n",
                "for k in range(2, 11):\n",
                "    centers = initial_S2(\"1828\", k)  # please replace 0111 with your last four digit of your ID\n",
                "    initial_centers[k] = centers \n",
                "print(initial_centers)\n",
                "#enter your last 4 digits of student id instead of 0000"
            ]
        },
        {
            "attachments": {},
            "cell_type": "markdown",
            "metadata": {},
            "source": [
                "Print the last 4 digits of your student id as string in the cell\n",
                "below. Please make sure to only have one print statement in the cell below."
            ]
        },
        {
            "cell_type": "code",
            "execution_count": 1,
            "metadata": {},
            "outputs": [
                {
                    "name": "stdout",
                    "output_type": "stream",
                    "text": [
                        "0111\n"
                    ]
                }
            ],
            "source": [
                "### TEST FUNCTION: test_print_id\n",
                "# DO NOT REMOVE THE LINE ABOVE\n",
                "print('1828') #add your ID again here"
            ]
        },
        {
            "attachments": {},
            "cell_type": "markdown",
            "metadata": {},
            "source": [
                "Add your code for computing the kMeans final centroids and loss functions in the code block below."
            ]
        },
        {
            "cell_type": "code",
            "execution_count": 3,
            "metadata": {},
            "outputs": [],
            "source": []
        },
        {
            "attachments": {},
            "cell_type": "markdown",
            "metadata": {},
            "source": [
                "Please use the following cell to print all the final \n",
                "centeriods for k in the range of 2 to 10, both inclusive.\n",
                "\n",
                "Notes:\n",
                "The centeriods should have the following format: \n",
                "[[x1,y1],[x2,y2],[x3,y3]][[x_1,y_1],[x_2,y_2],[x_3,y_3]]\n",
                "\n",
                "The order of the centeriod does not matter \n",
                "but do NOT change the order for x and y coordinate.\n",
                "\n",
                "Please print the centroids from k=2 to k=10 in order and each on a new line.\n",
                "Do not print anything else in the code cell below.\n",
                "\n",
                "Example:  \n",
                "[[x1, y1], [x2, y2]]\n",
                "\n",
                "[[x1, y1], [x2, y2], [x3, y3]]\n",
                "\n",
                " .\n",
                "\n",
                " .\n",
                " \n",
                " .\n",
                "\n",
                " [[x1,y1]..[x9,y9]]"
            ]
        },
        {
            "cell_type": "code",
            "execution_count": 4,
            "metadata": {},
            "outputs": [],
            "source": [
                "### TEST FUNCTION: test_project2_part2_1cen\n",
                "# DO NOT REMOVE THE LINE ABOVE\n"
            ]
        },
        {
            "attachments": {},
            "cell_type": "markdown",
            "metadata": {},
            "source": [
                "Please use the following cell to print all the final loss functions for k in the range of 2 to 10, both inclusive.\n",
                "\n",
                "Notes:\n",
                "Print the loss functions for every value of k in a new line and in order.\n",
                "Do not print anything else in the code cell below.\n",
                "\n",
                "Example: \n",
                "\n",
                "L1 \n",
                "\n",
                "L2 \n",
                "\n",
                "L3 \n",
                "\n",
                ".\n",
                "\n",
                ".\n",
                "\n",
                ".\n",
                "\n",
                "L9"
            ]
        },
        {
            "cell_type": "code",
            "execution_count": 5,
            "metadata": {},
            "outputs": [],
            "source": [
                "### TEST FUNCTION: test_project2_part2_loss\n",
                "# DO NOT REMOVE THE LINE ABOVE"
            ]
        },
        {
            "attachments": {},
            "cell_type": "markdown",
            "metadata": {},
            "source": [
                "**This part of the project is manually graded.**\n",
                "\n",
                "Please print your plots in the next few cells.\n"
            ]
        },
        {
            "cell_type": "code",
            "execution_count": 0,
            "metadata": {},
            "outputs": [],
            "source": []
        }
    ],
    "metadata": {
        "kernelspec": {
            "display_name": "Python 3 (ipykernel)",
            "language": "python",
            "name": "python3"
        }
    },
    "nbformat": 4,
    "nbformat_minor": 2
}
