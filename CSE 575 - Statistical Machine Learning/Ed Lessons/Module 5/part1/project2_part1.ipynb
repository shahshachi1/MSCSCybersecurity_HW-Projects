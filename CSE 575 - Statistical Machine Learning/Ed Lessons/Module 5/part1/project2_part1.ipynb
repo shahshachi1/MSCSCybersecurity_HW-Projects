{
    "cells": [
        {
            "attachments": {},
            "cell_type": "markdown",
            "metadata": {},
            "source": [
                "Add you import statements in the below code block. Please make sure to import Precode."
            ]
        },
        {
            "cell_type": "code",
            "execution_count": 5,
            "metadata": {},
            "outputs": [],
            "source": [
                "# import code here\n",
                "from precode import *\n",
                "import numpy\n",
                "import pandas as pd\n",
                "\n",
                "data = np.load('AllSamples.npy')"
            ]
        },
        {
            "attachments": {},
            "cell_type": "markdown",
            "metadata": {},
            "source": [
                "Below cell contains starter code to generate the initial centers. \n",
                "\n",
                "* Please do not change anything apart from the student ID.\n",
                "\n",
                "* The initial centers will be in a dictionary with keys being 'k' and value being the centers.\n"
            ]
        },
        {
            "cell_type": "code",
            "execution_count": 6,
            "metadata": {},
            "outputs": [],
            "source": [
                "initial_centers = {}\n",
                "for k in range(2, 11):\n",
                "    centers = initial_S1(\"0111\", k)  # please replace 0111 with your last four digit of your ID\n",
                "    initial_centers[k] = centers"
            ]
        },
        {
            "attachments": {},
            "cell_type": "markdown",
            "metadata": {},
            "source": [
                "Print the last 4 digits of your student id as string in the cell below. Please make sure to only have one print statement in the cell below."
            ]
        },
        {
            "cell_type": "code",
            "execution_count": 6,
            "metadata": {},
            "outputs": [],
            "source": [
                "### TEST FUNCTION: test_student_id\n",
                "# DO NOT REMOVE THE ABOVE LINE\n",
                "print(\"1828\")"
            ]
        },
        {
            "attachments": {},
            "cell_type": "markdown",
            "metadata": {},
            "source": [
                "Add your code for computing the kMeans final centroids and loss functions in the code block below."
            ]
        },
        {
            "cell_type": "code",
            "execution_count": 0,
            "metadata": {},
            "outputs": [],
            "source": []
        },
        {
            "attachments": {},
            "cell_type": "markdown",
            "metadata": {},
            "source": [
                "Please use the following cell to print all the final centeriods for k in the range of 2 to 10, both inclusive.\n",
                "\n",
                "**Notes:**\n",
                "* The centeriods should have the following format: `[[x1,y1],[x2,y2],[x3,y3]][[x1,y1],[x2,y2],[x3,y3]]`\n",
                "* The order of the centeriod does not matter but do NOT change the order for `x` and `y` coordinate.\n",
                "* Please print the centroids from k=2 to k=10 in order and each on a new line.\n",
                "* Do not print anything else in the code cell below.\n",
                "\n",
                "**Output format:**\n",
                "\n",
                "[[x1, y1], [x2, y2]]\n",
                "\n",
                "[[x1, y1], [x2, y2], [x3, y3]]\n",
                "\n",
                ".\n",
                "\n",
                ".\n",
                "\n",
                ".\n",
                "\n",
                "[[x1,y1], [x2,y2].....[x9,y9]]"
            ]
        },
        {
            "cell_type": "code",
            "execution_count": 8,
            "metadata": {},
            "outputs": [],
            "source": [
                "### TEST FUNCTION: test_question1\n",
                "# DO NOT REMOVE THE ABOVE LINE\n",
                "from sklearn.cluster import KMeans\n",
                "\n",
                "# Dictionary to store final centroids\n",
                "final_centroids = {}\n",
                "\n",
                "# Compute final centroids for k in range 2 to 10\n",
                "for k in range(2, 11):\n",
                "    kmeans = KMeans(n_clusters=k, init=initial_centers[k], n_init=1, random_state=0)\n",
                "    kmeans.fit(data)\n",
                "    final_centroids[k] = kmeans.cluster_centers_\n",
                "\n",
                "# Print final centroids in the required format\n",
                "for k in range(2, 11):\n",
                "    print(final_centroids[k].tolist())  # Converts NumPy array to standard Python list format\n"
            ]
        },
        {
            "attachments": {},
            "cell_type": "markdown",
            "metadata": {},
            "source": [
                "Please use the following cell to print all the final loss functions for k in the range of 2 to 10, both inclusive.\n",
                "\n",
                "**Notes:**\n",
                "\n",
                "* Print the loss functions for every value of k on a new line and in order.\n",
                "* Do not print anything else in the code cell below.\n",
                "\n",
                "**Output format:**\n",
                "\n",
                "L1\n",
                "\n",
                "L2\n",
                "\n",
                ".\n",
                "\n",
                ".\n",
                "\n",
                ".\n",
                "\n",
                "L9\n"
            ]
        },
        {
            "cell_type": "code",
            "execution_count": 9,
            "metadata": {},
            "outputs": [],
            "source": [
                "### TEST FUNCTION: test_question2\n",
                "# DO NOT REMOVE THE ABOVE LINE\n",
                "\n",
                "# Dictionary to store loss values (inertia)\n",
                "loss_values = {}\n",
                "\n",
                "# Compute loss (inertia) for k in range 2 to 10\n",
                "for k in range(2, 11):\n",
                "    kmeans = KMeans(n_clusters=k, init=initial_centers[k], n_init=1, random_state=0)\n",
                "    kmeans.fit(data)\n",
                "    loss_values[k] = kmeans.inertia_  # Inertia is the sum of squared distances to the nearest centroid\n",
                "\n",
                "# Print loss values in the required format (one per line)\n",
                "for k in range(2, 11):\n",
                "    print(loss_values[k])\n"
            ]
        },
        {
            "attachments": {},
            "cell_type": "markdown",
            "metadata": {},
            "source": [
                "**This part of the project is manually graded.**\n",
                "\n",
                "Use the cells below to write the code for generating the loss function plot."
            ]
        },
        {
            "cell_type": "code",
            "execution_count": 0,
            "metadata": {},
            "outputs": [],
            "source": [
                "# Graph for cluster plot - compiled into 1 image\n",
                "\n",
                "import matplotlib.pyplot as plt\n",
                "import numpy as np\n",
                "from sklearn.cluster import KMeans\n",
                "\n",
                "# Define the range of k values\n",
                "k_values = list(range(2, 11))\n",
                "\n",
                "# Create subplots for each k-value\n",
                "fig, axes = plt.subplots(3, 3, figsize=(15, 12))\n",
                "axes = axes.flatten()\n",
                "\n",
                "# Loop through k-values and generate cluster plots\n",
                "for i, k in enumerate(k_values):\n",
                "    kmeans = KMeans(n_clusters=k, init=initial_centers[k], n_init=1, random_state=0)\n",
                "    kmeans.fit(data)\n",
                "    \n",
                "    labels = kmeans.labels_\n",
                "    centroids = kmeans.cluster_centers_\n",
                "    \n",
                "    ax = axes[i]\n",
                "    ax.scatter(data[:, 0], data[:, 1], c=labels, cmap='viridis', alpha=0.6, edgecolors='k')\n",
                "    ax.scatter(centroids[:, 0], centroids[:, 1], marker='X', s=200, c='red', label=\"Centroids\")\n",
                "    \n",
                "    ax.set_title(f\"k = {k}\")\n",
                "    ax.set_xlabel(\"Feature 1\")\n",
                "    ax.set_ylabel(\"Feature 2\")\n",
                "    ax.legend()\n",
                "\n",
                "# Adjust layout for better spacing\n",
                "plt.tight_layout()\n",
                "plt.show()\n",
                "\n"
            ]
        },
        {
            "cell_type": "code",
            "execution_count": 0,
            "metadata": {},
            "outputs": [],
            "source": [
                "#Graph for loss function plot\n",
                "\n",
                "import matplotlib.pyplot as plt\n",
                "\n",
                "# Define k values (from 2 to 10)\n",
                "k_values = list(range(2, 11))\n",
                "\n",
                "# Extract corresponding loss values\n",
                "loss_values_list = [loss_values[k] for k in k_values]\n",
                "\n",
                "# Create the plot\n",
                "plt.figure(figsize=(8, 5))\n",
                "plt.plot(k_values, loss_values_list, marker='o', linestyle='-', color='b')\n",
                "\n",
                "# Add labels and title\n",
                "plt.xlabel(\"Number of Clusters (k)\")\n",
                "plt.ylabel(\"Loss Function (Inertia)\")\n",
                "plt.title(\"Elbow Method: Loss Function vs. Number of Clusters\")\n",
                "plt.xticks(k_values)\n",
                "plt.grid(True)\n",
                "\n",
                "# Show the plot\n",
                "plt.show()\n"
            ]
        }
    ],
    "metadata": {
        "kernelspec": {
            "display_name": "Python 3 (ipykernel)",
            "language": "python",
            "name": "python3"
        }
    },
    "nbformat": 4,
    "nbformat_minor": 2
}
