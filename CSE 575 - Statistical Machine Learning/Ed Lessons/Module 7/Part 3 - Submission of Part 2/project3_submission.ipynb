{
    "metadata": {
        "kernelspec": {
            "name": "python3",
            "display_name": "Python 3 (ipykernel)",
            "language": "python"
        }
    },
    "nbformat": 4,
    "nbformat_minor": 2,
    "cells": [
        {
            "attachments": {},
            "cell_type": "markdown",
            "metadata": {},
            "source": [
                "**Question 1**\n",
                "\n",
                "Please enter your last **4 ASUID** and **training accuracy** here in the function."
            ]
        },
        {
            "cell_type": "code",
            "execution_count": 1,
            "metadata": {},
            "outputs": [],
            "source": [
                "### TEST FUNCTION: test_question1\n",
                "# DO NOT REMOVE OR MODIFY THE LINE ABOVE\n",
                "def train_accuracy():\n",
                "    id = '1828' # your ASUID\n",
                "    acc = 0.812\n",
                "    return [id, acc]"
            ]
        },
        {
            "attachments": {},
            "cell_type": "markdown",
            "metadata": {},
            "source": [
                "**Question 2**\n",
                "\n",
                "Please enter your last **4 ASUID** and the **training loss** here in the function."
            ]
        },
        {
            "cell_type": "code",
            "execution_count": 2,
            "metadata": {},
            "outputs": [],
            "source": [
                "### TEST FUNCTION: test_question2\n",
                "# DO NOT REMOVE OR MODIFY THE LINE ABOVE\n",
                "def train_loss():\n",
                "    id = '1828' # your ASUID\n",
                "    loss = 0.506\n",
                "    return [id,loss]"
            ]
        },
        {
            "attachments": {},
            "cell_type": "markdown",
            "metadata": {},
            "source": [
                "**Question 3**\n",
                "\n",
                "Please enter your last **4 ASUID** and the **testing accuracy** here in the function."
            ]
        },
        {
            "cell_type": "code",
            "execution_count": 3,
            "metadata": {},
            "outputs": [],
            "source": [
                "### TEST FUNCTION: test_question3\n",
                "# DO NOT REMOVE OR MODIFY THE LINE ABOVE\n",
                "def test_accuracy():\n",
                "    id = '1828' # your ASUID\n",
                "    acc = 0.777\n",
                "    return [id,acc]"
            ]
        },
        {
            "attachments": {},
            "cell_type": "markdown",
            "metadata": {},
            "source": [
                "**Question 4**\n",
                "\n",
                "Please enter your last **4 ASUID** and the **testing loss** here in the function."
            ]
        },
        {
            "cell_type": "code",
            "execution_count": 4,
            "metadata": {},
            "outputs": [],
            "source": [
                "### TEST FUNCTION: test_question4\n",
                "# DO NOT REMOVE OR MODIFY THE LINE ABOVE\n",
                "def test_loss():\n",
                "    id = '1828' # your ASUID\n",
                "    loss = 0.611\n",
                "    return [id,loss]"
            ]
        }
    ]
}
