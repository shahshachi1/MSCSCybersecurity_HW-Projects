{
    "cells": [
        {
            "attachments": {},
            "cell_type": "markdown",
            "metadata": {},
            "source": [
                "Add your import statements and the database connection statements in the below code block\n",
                "\n",
                "Database file path: /course/data/CSE-578/dinofunworld.db"
            ]
        },
        {
            "cell_type": "code",
            "execution_count": 0,
            "metadata": {},
            "outputs": [],
            "source": [
                "# your code here\n",
                "import sqlite3\n",
                "import pandas as pd\n",
                "import numpy as np\n",
                "import matplotlib.pyplot as plt\n",
                "\n",
                "# Connect to the database\n",
                "db_path = '/course/data/CSE-578/dinofunworld.db'\n",
                "conn = sqlite3.connect(db_path)"
            ]
        },
        {
            "attachments": {},
            "cell_type": "markdown",
            "metadata": {},
            "source": [
                "### **Question 1**:\n",
                "Create and display a control chart showing attendance at the ride 'Atmosfear' over the data provided. In the control chart, display the attendance, the mean attendance, and bands for one and two standard deviations away from the average.\n",
                "\n",
                "**Note:** \n",
                "* For this question, display the control chart in the notebook and print the mean attendance and standard deviation values as a list. \n",
                "For example: [mean, standard_deviation]\n",
                "* Create a single Control chart that displays the mean, standard deviation, and attendance, adhering to the specified line style and color as outlined below.\n",
                "    * Mean: 'g-'\n",
                "    * +2 STD and -2 STD: 'r-'\n",
                "    * +STD and -STD: 'y-'\n",
                "    * Attendance: 'b-'\n",
                "* The Control Chart should also have the below mentioned parameters,\n",
                "    * legend that displays the mean and standard deviation adhering to the specified line and color. Note: Legend should be outside the plot.\n",
                "    * title named '**Control Chart of attendance at Atmosfear**'\n",
                "    * x-label ('**Time in minutes**') and y-label ('**Attendance**')\n",
                "* The plot must not have the following parameters,\n",
                "    * do not set figure size\n",
                "    * do not set font size or font-weight for titles and labels\n"
            ]
        },
        {
            "cell_type": "code",
            "execution_count": 0,
            "metadata": {},
            "outputs": [],
            "source": [
                "### TEST FUNCTION: test_question1\n",
                "# DO NOT REMOVE OR MODIFY THE ABOVE LINE\n",
                "# your code here\n",
                "\n",
                "query_attraction = \"\"\"\n",
                "SELECT AttractionID FROM attraction WHERE Name = 'Atmosfear'\n",
                "\"\"\"\n",
                "atmosfear_id = pd.read_sql(query_attraction, conn)['AttractionID'].iloc[0]\n",
                "\n",
                "# Query to get check-in sequences containing 'Atmosfear'\n",
                "query_sequences = f\"\"\"\n",
                "SELECT visitorID, sequence FROM sequences WHERE sequence LIKE '%{atmosfear_id}%';\n",
                "\"\"\"\n",
                "sequences = pd.read_sql(query_sequences, conn)\n",
                "sequence_stats = sequences.copy()\n",
                "sequence_stats['sequence_list'] = sequence_stats['sequence'].apply(lambda s: [1 if x == str(atmosfear_id) else 0 for x in s.split(\"-\")])\n",
                "\n",
                "# Compute attendance\n",
                "attendance = np.sum(sequence_stats['sequence_list'].values.tolist(), axis=0)\n",
                "mean = np.nanmean(attendance)\n",
                "std = np.nanstd(attendance)\n",
                "\n",
                "# Plot control chart\n",
                "x_axis_list = range(0, len(attendance)*5, 5)\n",
                "plt.figure(figsize=(12,6))\n",
                "plt.plot(x_axis_list, [mean+2*std]*len(attendance), 'r-', label='+2 Std Dev')\n",
                "plt.plot(x_axis_list, [mean-2*std]*len(attendance), 'r-', label='-2 Std Dev')\n",
                "plt.plot(x_axis_list, [mean+std]*len(attendance), 'y-', label='+1 Std Dev')\n",
                "plt.plot(x_axis_list, [mean-std]*len(attendance), 'y-', label='-1 Std Dev')\n",
                "plt.plot(x_axis_list, [mean]*len(attendance), 'g-', label='Mean')\n",
                "plt.plot(x_axis_list, attendance, 'b-', label='Attendance')\n",
                "plt.ylabel('Attendance')\n",
                "plt.xlabel('Time in minutes')\n",
                "plt.title('Control Chart of attendance at Atmosfear')\n",
                "plt.legend()\n",
                "plt.show()\n",
                "\n",
                "# Print mean and standard deviation in required format\n",
                "print([float(mean), float(std)])"
            ]
        },
        {
            "attachments": {},
            "cell_type": "markdown",
            "metadata": {},
            "source": [
                "### **Question 2**:\n",
                "Create and display a moving average chart of the attendance at 'Atmosfear' over the data provided. Use a window size of 50 for this moving average.\n",
                "\n",
                "**Note:** \n",
                "* The Moving Average Chart should have the below mentioned parameters,\n",
                "    * set mode to 'same' while performing convolution\n",
                "    * title named '**Moving Average Chart of attendance at Atmosfear**'\n",
                "    * x-label ('**Time in minutes**') and y-label ('**Attendance**')\n",
                "* The plot must not have the following parameters,\n",
                "    * legend\n",
                "    * do not set figure size\n",
                "    * do not set font size or font-weight for titles and labels\n"
            ]
        },
        {
            "cell_type": "code",
            "execution_count": 0,
            "metadata": {},
            "outputs": [],
            "source": [
                "### TEST FUNCTION: test_question2\n",
                "# DO NOT REMOVE OR MODIFY THE ABOVE LINE\n",
                "# your code here\n",
                "\n",
                "moving_avg = np.convolve(attendance, np.ones(50)/50, mode='valid')\n",
                "\n",
                "# Plot moving average\n",
                "x_axis_ma = range(0, len(moving_avg)*5, 5)\n",
                "plt.figure(figsize=(12,6))\n",
                "plt.plot(x_axis_list, attendance, 'b-', alpha=0.5, label='Original Attendance')\n",
                "plt.plot(x_axis_ma, moving_avg, 'r-', label='50-Sample Moving Average')\n",
                "plt.ylabel('Attendance')\n",
                "plt.xlabel('Time in minutes')\n",
                "plt.title('Moving Average Chart of attendance at Atmosfear')\n",
                "plt.legend()\n",
                "plt.show()"
            ]
        },
        {
            "attachments": {},
            "cell_type": "markdown",
            "metadata": {},
            "source": [
                "### **Question 3**:\n",
                "Create and display an exponentially-weighted moving average chart of the attendance at 'Atmosfear' over the data provided. Again, use a window size of 50 for this weighted moving average.\n",
                "\n",
                "**Note:** \n",
                "* The Weighted Moving Average Chart should have the below mentioned parameters,\n",
                "    * title named '**Exponentially Weighted Moving Average Chart of the attendance at Atmosfear**'  \n",
                "    * x-label ('**Time in minutes**') and y-label ('**Attendance**')\n",
                "* The plot must not have the following parameters,\n",
                "    * legend\n",
                "    * do not set figure size\n",
                "    * do not set font size or font-weight for titles and labels\n"
            ]
        },
        {
            "cell_type": "code",
            "execution_count": 0,
            "metadata": {},
            "outputs": [],
            "source": [
                "### TEST FUNCTION: test_question3\n",
                "# DO NOT REMOVE OR MODIFY THE ABOVE LINE\n",
                "# your code here\n",
                "\n",
                "# Compute 50-sample exponentially weighted moving average\n",
                "exp_weighted_avg = pd.Series(attendance).ewm(span=50, adjust=False).mean()\n",
                "\n",
                "# Plot exponentially weighted moving average\n",
                "plt.figure(figsize=(12,6))\n",
                "plt.plot(x_axis_list, attendance, 'b-', alpha=0.5, label='Original Attendance')\n",
                "plt.plot(x_axis_list[:len(exp_weighted_avg)], exp_weighted_avg, 'purple', label='Exponentially Weighted Moving Average')\n",
                "plt.ylabel('Attendance')\n",
                "plt.xlabel('Time in minutes')\n",
                "plt.title('Exponentially Weighted Moving Average Chart of the attendance at Atmosfear')\n",
                "plt.legend()\n",
                "plt.show()\n",
                "\n",
                "# Close database connection\n",
                "conn.close()"
            ]
        }
    ],
    "metadata": {
        "kernelspec": {
            "display_name": "Python 3 (ipykernel)",
            "language": "python",
            "name": "python3"
        }
    },
    "nbformat": 4,
    "nbformat_minor": 2
}
