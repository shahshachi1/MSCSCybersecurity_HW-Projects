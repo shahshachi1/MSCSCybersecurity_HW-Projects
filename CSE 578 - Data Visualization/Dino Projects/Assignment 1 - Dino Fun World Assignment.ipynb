{
    "metadata": {
        "kernelspec": {
            "name": "python3",
            "display_name": "Python 3 (ipykernel)",
            "language": "python"
        }
    },
    "nbformat": 4,
    "nbformat_minor": 2,
    "cells": [
        {
            "attachments": {},
            "cell_type": "markdown",
            "metadata": {},
            "source": [
                "Add your import statements and the database connection statements in the below code block\n",
                "\n",
                "Database file path = '/course/data/CSE-578/dinofunworld.db'"
            ]
        },
        {
            "cell_type": "code",
            "execution_count": 60,
            "metadata": {},
            "outputs": [],
            "source": [
                "#your code here\n",
                "import sqlite3\n",
                "connection = sqlite3.connect('/course/data/CSE-578/dinofunworld.db')\n",
                "cursor = connection.cursor()\n",
                ""
            ]
        },
        {
            "attachments": {},
            "cell_type": "markdown",
            "metadata": {},
            "source": [
                "**Question 1:** \n",
                "\n",
                "What is the most popular attraction to visit in the park?\n",
                "\n",
                "**Note:** Your output should be the name of the attraction. Please print your output in the cell below."
            ]
        },
        {
            "cell_type": "code",
            "execution_count": 61,
            "metadata": {},
            "outputs": [
                {
                    "name": "stdout",
                    "output_type": "stream",
                    "text": "Atmosfear\n"
                }
            ],
            "source": [
                "### TEST FUNCTION: test_question1\n",
                "# DO NOT REMOVE THE LINE ABOVE\n",
                "# your code here\n",
                "# List all tables in the database\n",
                "cursor.execute('''\n",
                "    SELECT Name \n",
                "    FROM attraction\n",
                "    JOIN (\n",
                "        SELECT attraction, COUNT(*) as visit_count \n",
                "        FROM checkin \n",
                "        GROUP BY attraction\n",
                "        ORDER BY visit_count DESC\n",
                "        LIMIT 1\n",
                "    ) AS most_popular\n",
                "    ON attraction.AttractionID = most_popular.attraction\n",
                "''')\n",
                "question1_result = cursor.fetchone()[0]\n",
                "print(question1_result)\n",
                ""
            ]
        },
        {
            "attachments": {},
            "cell_type": "markdown",
            "metadata": {},
            "source": [
                "**Question 2:** \n",
                "\n",
                "What ride (note that not all attractions are rides) has the second longest average visit time?\n",
                "\n",
                "**Note:** Your output should be the name of the ride. Please print your output in the cell below.\n",
                ""
            ]
        },
        {
            "cell_type": "code",
            "execution_count": 62,
            "metadata": {},
            "outputs": [
                {
                    "name": "stdout",
                    "output_type": "stream",
                    "text": "Flight of the Swingodon\n"
                }
            ],
            "source": [
                "### TEST FUNCTION: test_question2\n",
                "# DO NOT REMOVE THE LINE ABOVE\n",
                "# your code here\n",
                "cursor.execute('''\n",
                "    SELECT Name \n",
                "    FROM attraction\n",
                "    JOIN (\n",
                "        SELECT attraction, AVG(duration) as avg_duration\n",
                "        FROM checkin\n",
                "        WHERE type = \"actual\"\n",
                "        GROUP BY attraction\n",
                "        ORDER BY avg_duration DESC\n",
                "        LIMIT 1 OFFSET 1\n",
                "    ) AS second_longest\n",
                "    ON attraction.AttractionID = second_longest.attraction\n",
                "''')\n",
                "question2_result = cursor.fetchone()[0]\n",
                "print(question2_result)"
            ]
        },
        {
            "cell_type": "code",
            "execution_count": 63,
            "metadata": {},
            "outputs": [],
            "source": [
                ""
            ]
        },
        {
            "attachments": {},
            "cell_type": "markdown",
            "metadata": {},
            "source": [
                "**Question 3:** \n",
                "\n",
                "Which Fast Food offering in the park has the fewest visitors?\n",
                "\n",
                "**Note:** Your output should be the name of the fast food offering. Please print your output in the cell below."
            ]
        },
        {
            "cell_type": "code",
            "execution_count": 64,
            "metadata": {},
            "outputs": [
                {
                    "name": "stdout",
                    "output_type": "stream",
                    "text": "Theresaur Food Stop\n"
                }
            ],
            "source": [
                "### TEST FUNCTION: test_question3\n",
                "# DO NOT REMOVE THE LINE ABOVE\n",
                "# your code here\n",
                "# Check if there are any attractions in the 'Food' category\n",
                "# Check if any 'Food' attractions have check-ins\n",
                "# Check unique values in the 'type' field in the 'attraction' table\n",
                "cursor.execute('''\n",
                "    SELECT Name\n",
                "    FROM attraction\n",
                "    JOIN (\n",
                "        SELECT attraction, COUNT(DISTINCT visitorID) as visitor_count\n",
                "        FROM checkin\n",
                "        GROUP BY attraction\n",
                "        ORDER BY visitor_count ASC\n",
                "    ) AS fewest_visitors\n",
                "    ON attraction.AttractionID = fewest_visitors.attraction\n",
                "    WHERE type = 'Fast Food'\n",
                "    LIMIT 1\n",
                "''')\n",
                "question3_result = cursor.fetchone()[0]\n",
                "print(question3_result)\n",
                "\n",
                ""
            ]
        }
    ]
}
